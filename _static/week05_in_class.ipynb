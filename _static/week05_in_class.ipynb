{
 "cells": [
  {
   "cell_type": "markdown",
   "metadata": {},
   "source": [
    "## Week 5\n",
    "\n",
    "### Notes on project 1"
   ]
  },
  {
   "cell_type": "markdown",
   "metadata": {},
   "source": [
    "* result comment: 'this plot shows a very interesting behavior. Let's move to the next result' **this comment is not complete**\n",
    "* Equation for the sequence was missing.\n",
    "* comments and text descriptions are two different things, and both are necessary to a project\n",
    "* `list`, `len`,... should not be used as variable names\n",
    "* careful to terminology/typos\n",
    "* `return` does not need parenthesis -> `return a`\n",
    "* If your grade is below C, you should send me an email\n",
    "* **Who is the report for?** formal text/terminology, level of information should be enough for your 'roommate' to understand the project.\n"
   ]
  },
  {
   "cell_type": "code",
   "execution_count": 1,
   "metadata": {},
   "outputs": [
    {
     "data": {
      "text/plain": [
       "[0, 1, 2, 3, 4]"
      ]
     },
     "execution_count": 1,
     "metadata": {},
     "output_type": "execute_result"
    }
   ],
   "source": [
    "list(range(5))"
   ]
  },
  {
   "cell_type": "markdown",
   "metadata": {},
   "source": [
    "### quick note on sample quiz 5"
   ]
  },
  {
   "cell_type": "markdown",
   "metadata": {},
   "source": [
    "Write the code to generate the list of the halves of the first 100 integers. Use list comprehension"
   ]
  },
  {
   "cell_type": "code",
   "execution_count": 2,
   "metadata": {},
   "outputs": [
    {
     "name": "stdout",
     "output_type": "stream",
     "text": [
      "[0.0, 0.5, 1.0, 1.5, 2.0, 2.5, 3.0, 3.5, 4.0, 4.5, 5.0, 5.5, 6.0, 6.5, 7.0, 7.5, 8.0, 8.5, 9.0, 9.5, 10.0, 10.5, 11.0, 11.5, 12.0, 12.5, 13.0, 13.5, 14.0, 14.5, 15.0, 15.5, 16.0, 16.5, 17.0, 17.5, 18.0, 18.5, 19.0, 19.5, 20.0, 20.5, 21.0, 21.5, 22.0, 22.5, 23.0, 23.5, 24.0, 24.5, 25.0, 25.5, 26.0, 26.5, 27.0, 27.5, 28.0, 28.5, 29.0, 29.5, 30.0, 30.5, 31.0, 31.5, 32.0, 32.5, 33.0, 33.5, 34.0, 34.5, 35.0, 35.5, 36.0, 36.5, 37.0, 37.5, 38.0, 38.5, 39.0, 39.5, 40.0, 40.5, 41.0, 41.5, 42.0, 42.5, 43.0, 43.5, 44.0, 44.5, 45.0, 45.5, 46.0, 46.5, 47.0, 47.5, 48.0, 48.5, 49.0, 49.5, 50.0]\n"
     ]
    }
   ],
   "source": [
    "mylist=[k/2 for k in range(101) ]\n",
    "print(mylist)"
   ]
  },
  {
   "cell_type": "markdown",
   "metadata": {},
   "source": [
    "Suppose the list `plist` contains the first 500 prime numbers. Using list comprehension produce the\n",
    "list `loglist` of the logarithm of the numbers in `plist`\n"
   ]
  },
  {
   "cell_type": "code",
   "execution_count": 3,
   "metadata": {},
   "outputs": [
    {
     "name": "stdout",
     "output_type": "stream",
     "text": [
      "[0.0, 0.6931471805599453, 1.0986122886681098, 1.3862943611198906, 1.6094379124341003]\n"
     ]
    }
   ],
   "source": [
    "from math import log\n",
    "plist=range(1,6)\n",
    "mylist2=[log(k) for k in plist]\n",
    "print(mylist2)"
   ]
  },
  {
   "cell_type": "markdown",
   "metadata": {},
   "source": [
    "Suppose the list `plist` contains the first 500 prime numbers. Using list comprehension produce the\n",
    "list `mylist` of the numbers in `plist` smaller than 300 that are odd\n"
   ]
  },
  {
   "cell_type": "code",
   "execution_count": 4,
   "metadata": {},
   "outputs": [
    {
     "name": "stdout",
     "output_type": "stream",
     "text": [
      "[1, 3, 5]\n"
     ]
    }
   ],
   "source": [
    "plist=range(1,6)\n",
    "\n",
    "mylist=[k for k in plist if ((k<300) and (k%2==1))]\n",
    "print(mylist)"
   ]
  },
  {
   "cell_type": "code",
   "execution_count": 5,
   "metadata": {},
   "outputs": [
    {
     "name": "stdout",
     "output_type": "stream",
     "text": [
      "[1.0, 1.0101010101010102, 1.02020202020202, 1.0303030303030303, 1.0404040404040404, 1.0505050505050506, 1.0606060606060606, 1.0707070707070707, 1.0808080808080809, 1.0909090909090908, 1.101010101010101, 1.1111111111111112, 1.121212121212121, 1.1313131313131313, 1.1414141414141414, 1.1515151515151516, 1.1616161616161615, 1.1717171717171717, 1.1818181818181819, 1.1919191919191918, 1.202020202020202, 1.2121212121212122, 1.2222222222222223, 1.2323232323232323, 1.2424242424242424, 1.2525252525252526, 1.2626262626262625, 1.2727272727272727, 1.2828282828282829, 1.2929292929292928, 1.303030303030303, 1.3131313131313131, 1.3232323232323233, 1.3333333333333333, 1.3434343434343434, 1.3535353535353536, 1.3636363636363638, 1.3737373737373737, 1.3838383838383839, 1.393939393939394, 1.404040404040404, 1.4141414141414141, 1.4242424242424243, 1.4343434343434343, 1.4444444444444444, 1.4545454545454546, 1.4646464646464645, 1.4747474747474747, 1.4848484848484849, 1.494949494949495, 1.5050505050505052, 1.5151515151515151, 1.5252525252525253, 1.5353535353535355, 1.5454545454545454, 1.5555555555555556, 1.5656565656565657, 1.5757575757575757, 1.5858585858585859, 1.595959595959596, 1.606060606060606, 1.6161616161616161, 1.6262626262626263, 1.6363636363636362, 1.6464646464646466, 1.6565656565656566, 1.6666666666666665, 1.676767676767677, 1.6868686868686869, 1.696969696969697, 1.7070707070707072, 1.7171717171717171, 1.7272727272727273, 1.7373737373737375, 1.7474747474747474, 1.7575757575757576, 1.7676767676767677, 1.7777777777777777, 1.7878787878787878, 1.797979797979798, 1.808080808080808, 1.8181818181818183, 1.8282828282828283, 1.8383838383838382, 1.8484848484848486, 1.8585858585858586, 1.8686868686868687, 1.878787878787879, 1.8888888888888888, 1.898989898989899, 1.9090909090909092, 1.9191919191919191, 1.9292929292929293, 1.9393939393939394, 1.9494949494949494, 1.9595959595959596, 1.9696969696969697, 1.9797979797979797, 1.98989898989899, 2.0]\n"
     ]
    }
   ],
   "source": [
    "x=[k/99 +1 for k in range(100)]\n",
    "print(x)"
   ]
  },
  {
   "cell_type": "markdown",
   "metadata": {},
   "source": [
    "`myprimes(n)`: idea loop on all numbers $\\leq n$ if `isprime()` we append it."
   ]
  },
  {
   "cell_type": "markdown",
   "metadata": {},
   "source": [
    "`primedec(n)`:\n",
    "\n",
    "* we start with `n` and want all prime divisors (with repetition)\n",
    "* we get all primes $\\leq n$\n",
    "\n",
    "* for each prime k:\n",
    "    - as long as k divides n, we append k, and update n to n/k\n",
    "        - if not: move to next prime (do nothing)\n",
    "we do this as long as `n!=1`"
   ]
  },
  {
   "cell_type": "code",
   "execution_count": 24,
   "metadata": {},
   "outputs": [],
   "source": [
    "def snail(n):\n",
    "    # the function returns the x and y coordinates\n",
    "    # necessary to build the snail pattern\n",
    "    mov = 'right' # movement direction\n",
    "    counter = 1 # how many times we should move in the current direction\n",
    "    times_m = 0 # how many times have we moved in a specific direction\n",
    "    \n",
    "    \n",
    "    x,y=0,0\n",
    "    xlist=[x]\n",
    "    ylist=[y]\n",
    "    \n",
    "    for k in range(n):\n",
    "        if mov == 'right':\n",
    "            x+=1\n",
    "            times_m+=1\n",
    "            if times_m == counter:\n",
    "                mov='up'\n",
    "                times_m=0\n",
    "        elif mov == 'up':\n",
    "            y+=1\n",
    "            times_m+=1\n",
    "            if times_m == counter:\n",
    "                mov='left' # update direction\n",
    "                times_m=0 # update of times moved in new/current direction\n",
    "                counter+=1 # update of max movement\n",
    "        elif mov == 'left':\n",
    "            x-=1\n",
    "            times_m+=1\n",
    "            if times_m == counter:\n",
    "                mov='down'\n",
    "                times_m=0\n",
    "        elif mov == 'down':\n",
    "            y-=1\n",
    "            times_m+=1\n",
    "            if times_m == counter:\n",
    "                mov='right' # update direction\n",
    "                times_m=0 # update of times moved in new/current direction\n",
    "                counter+=1 # update of max movement\n",
    "        xlist.append(x)\n",
    "        ylist.append(y)\n",
    "    \n",
    "    return xlist,ylist"
   ]
  },
  {
   "cell_type": "code",
   "execution_count": 25,
   "metadata": {},
   "outputs": [
    {
     "name": "stdout",
     "output_type": "stream",
     "text": [
      "x:  [0, 1, 1, 0, -1]\n",
      "y:  [0, 0, 1, 1, 1]\n"
     ]
    }
   ],
   "source": [
    "x,y=snail(4)\n",
    "print('x: ',x)\n",
    "print('y: ',y)"
   ]
  },
  {
   "cell_type": "code",
   "execution_count": 26,
   "metadata": {},
   "outputs": [],
   "source": [
    "import matplotlib.pyplot as plt"
   ]
  },
  {
   "cell_type": "code",
   "execution_count": 27,
   "metadata": {},
   "outputs": [
    {
     "data": {
      "image/png": "[encoded data removed]",
      "text/plain": [
       "<Figure size 432x288 with 1 Axes>"
      ]
     },
     "metadata": {
      "needs_background": "light"
     },
     "output_type": "display_data"
    }
   ],
   "source": [
    "plt.scatter(x,y,linewidths=[1,2,3,4,5]);"
   ]
  },
  {
   "cell_type": "code",
   "execution_count": 29,
   "metadata": {},
   "outputs": [
    {
     "name": "stdout",
     "output_type": "stream",
     "text": [
      "x:  [0, 1, 1, 0, -1, -1, -1, 0, 1, 2, 2, 2, 2, 1]\n",
      "y:  [0, 0, 1, 1, 1, 0, -1, -1, -1, -1, 0, 1, 2, 2]\n"
     ]
    },
    {
     "data": {
      "image/png": "[encoded data removed]",
      "text/plain": [
       "<Figure size 432x288 with 1 Axes>"
      ]
     },
     "metadata": {
      "needs_background": "light"
     },
     "output_type": "display_data"
    }
   ],
   "source": [
    "x,y=snail(13)\n",
    "print('x: ',x)\n",
    "print('y: ',y)\n",
    "plt.scatter(x,y,c='r',linewidths=range(14));"
   ]
  },
  {
   "cell_type": "markdown",
   "metadata": {},
   "source": [
    "## Note on subplots"
   ]
  },
  {
   "cell_type": "code",
   "execution_count": 31,
   "metadata": {},
   "outputs": [
    {
     "data": {
      "text/plain": [
       "[<matplotlib.lines.Line2D at 0x2c4ba562be0>]"
      ]
     },
     "execution_count": 31,
     "metadata": {},
     "output_type": "execute_result"
    },
    {
     "data": {
      "image/png": "[encoded data removed]",
      "text/plain": [
       "<Figure size 432x288 with 3 Axes>"
      ]
     },
     "metadata": {
      "needs_background": "light"
     },
     "output_type": "display_data"
    }
   ],
   "source": [
    "plt.subplots_adjust(wspace=0.5,hspace=1)\n",
    "plt.subplot(2,2,1)\n",
    "plt.plot([1,2,3],'r--')\n",
    "plt.subplot(2,2,2)\n",
    "plt.plot([3,4,6],'b:')\n",
    "plt.subplot(2,2,4)\n",
    "plt.plot([5,7,10],'ms')\n"
   ]
  },
  {
   "cell_type": "code",
   "execution_count": null,
   "metadata": {},
   "outputs": [],
   "source": []
  }
 ],
 "metadata": {
  "kernelspec": {
   "display_name": "Python 3",
   "language": "python",
   "name": "python3"
  },
  "language_info": {
   "codemirror_mode": {
    "name": "ipython",
    "version": 3
   },
   "file_extension": ".py",
   "mimetype": "text/x-python",
   "name": "python",
   "nbconvert_exporter": "python",
   "pygments_lexer": "ipython3",
   "version": "3.7.3"
  }
 },
 "nbformat": 4,
 "nbformat_minor": 4
}
