{
 "cells": [
  {
   "cell_type": "code",
   "execution_count": 2,
   "metadata": {},
   "outputs": [],
   "source": [
    "import numpy as np\n",
    "import matplotlib.pyplot as plt"
   ]
  },
  {
   "cell_type": "markdown",
   "metadata": {},
   "source": [
    "Quiz 6, q4"
   ]
  },
  {
   "cell_type": "code",
   "execution_count": 6,
   "metadata": {},
   "outputs": [
    {
     "data": {
      "text/plain": [
       "array([3.4 , 3.65, 3.9 , 4.15, 4.4 ])"
      ]
     },
     "execution_count": 6,
     "metadata": {},
     "output_type": "execute_result"
    }
   ],
   "source": [
    "np.arange(3.4, 4.41, 0.25)"
   ]
  },
  {
   "cell_type": "code",
   "execution_count": 4,
   "metadata": {},
   "outputs": [
    {
     "data": {
      "text/plain": [
       "array([3.4 , 3.65, 3.9 , 4.15, 4.4 ])"
      ]
     },
     "execution_count": 4,
     "metadata": {},
     "output_type": "execute_result"
    }
   ],
   "source": [
    "np.arange(3.4, 4.4, 0.25)"
   ]
  },
  {
   "cell_type": "markdown",
   "metadata": {},
   "source": [
    "Quiz 7, q4"
   ]
  },
  {
   "cell_type": "code",
   "execution_count": 10,
   "metadata": {},
   "outputs": [
    {
     "data": {
      "text/plain": [
       "array([[ 1,  2,  3,  4,  5,  6,  7,  8,  9, 10],\n",
       "       [11, 12, 13, 14,  1,  2, 17, 18, 19, 20],\n",
       "       [21, 22, 23, 24,  3,  4, 27, 28, 29, 30],\n",
       "       [31, 32, 33, 34, 35, 36, 37, 38, 39, 40]])"
      ]
     },
     "execution_count": 10,
     "metadata": {},
     "output_type": "execute_result"
    }
   ],
   "source": [
    "pippo = np.arange(1,41).reshape(4,10)\n",
    "x=np.arange(1,5).reshape(2,2)\n",
    "pippo[1:3,4:6]=x\n",
    "pippo"
   ]
  },
  {
   "cell_type": "markdown",
   "metadata": {},
   "source": [
    "Create a boolean array that is `True` where the elements of `pippo` are odd or a multiple of 7"
   ]
  },
  {
   "cell_type": "code",
   "execution_count": 14,
   "metadata": {},
   "outputs": [],
   "source": [
    "b=(pippo%2 == 1) | (pippo%7 == 0)"
   ]
  },
  {
   "cell_type": "code",
   "execution_count": 15,
   "metadata": {},
   "outputs": [
    {
     "data": {
      "text/plain": [
       "array([ 1,  3,  5,  7,  9, 11, 13, 14,  1, 17, 19, 21, 23,  3, 27, 28, 29,\n",
       "       31, 33, 35, 37, 39])"
      ]
     },
     "execution_count": 15,
     "metadata": {},
     "output_type": "execute_result"
    }
   ],
   "source": [
    "pippo[b]"
   ]
  },
  {
   "cell_type": "markdown",
   "metadata": {},
   "source": [
    "(7) Set all the elements of pippo that are even equal to 300\n"
   ]
  },
  {
   "cell_type": "code",
   "execution_count": 16,
   "metadata": {},
   "outputs": [
    {
     "data": {
      "text/plain": [
       "array([[  1, 300,   3, 300,   5, 300,   7, 300,   9, 300],\n",
       "       [ 11, 300,  13, 300,   1, 300,  17, 300,  19, 300],\n",
       "       [ 21, 300,  23, 300,   3, 300,  27, 300,  29, 300],\n",
       "       [ 31, 300,  33, 300,  35, 300,  37, 300,  39, 300]])"
      ]
     },
     "execution_count": 16,
     "metadata": {},
     "output_type": "execute_result"
    }
   ],
   "source": [
    "pippo[pippo%2==0] =300\n",
    "pippo"
   ]
  },
  {
   "cell_type": "markdown",
   "metadata": {},
   "source": [
    "(8) Write the code that creates a 3 × 4 array a with numbers from 0 to 11. Use boolean indeces to set\n",
    "all of the entries of a, that are less than 2 or greater than 8, equal to 0."
   ]
  },
  {
   "cell_type": "code",
   "execution_count": 19,
   "metadata": {},
   "outputs": [],
   "source": [
    "a=np.arange(0,12).reshape(3,4)\n",
    "b=(a<2) | (a>8)\n",
    "a[ b ] = 0\n"
   ]
  },
  {
   "cell_type": "code",
   "execution_count": 20,
   "metadata": {},
   "outputs": [
    {
     "data": {
      "text/plain": [
       "array([[0, 0, 2, 3],\n",
       "       [4, 5, 6, 7],\n",
       "       [8, 0, 0, 0]])"
      ]
     },
     "execution_count": 20,
     "metadata": {},
     "output_type": "execute_result"
    }
   ],
   "source": [
    "a"
   ]
  },
  {
   "cell_type": "markdown",
   "metadata": {},
   "source": [
    "## Specifying colors in matplotlib"
   ]
  },
  {
   "cell_type": "markdown",
   "metadata": {},
   "source": [
    "### Colormaps\n",
    "\n",
    "set of colors the you can select in the range [0,1)"
   ]
  },
  {
   "cell_type": "code",
   "execution_count": 21,
   "metadata": {},
   "outputs": [],
   "source": [
    "import matplotlib.cm as cm # a collection of color maps"
   ]
  },
  {
   "cell_type": "code",
   "execution_count": 22,
   "metadata": {},
   "outputs": [
    {
     "data": {
      "text/plain": [
       "['Accent',\n",
       " 'Accent_r',\n",
       " 'Blues',\n",
       " 'Blues_r',\n",
       " 'BrBG',\n",
       " 'BrBG_r',\n",
       " 'BuGn',\n",
       " 'BuGn_r',\n",
       " 'BuPu',\n",
       " 'BuPu_r',\n",
       " 'CMRmap',\n",
       " 'CMRmap_r',\n",
       " 'Dark2',\n",
       " 'Dark2_r',\n",
       " 'GnBu',\n",
       " 'GnBu_r',\n",
       " 'Greens',\n",
       " 'Greens_r',\n",
       " 'Greys',\n",
       " 'Greys_r',\n",
       " 'LUTSIZE',\n",
       " 'OrRd',\n",
       " 'OrRd_r',\n",
       " 'Oranges',\n",
       " 'Oranges_r',\n",
       " 'PRGn',\n",
       " 'PRGn_r',\n",
       " 'Paired',\n",
       " 'Paired_r',\n",
       " 'Pastel1',\n",
       " 'Pastel1_r',\n",
       " 'Pastel2',\n",
       " 'Pastel2_r',\n",
       " 'PiYG',\n",
       " 'PiYG_r',\n",
       " 'PuBu',\n",
       " 'PuBuGn',\n",
       " 'PuBuGn_r',\n",
       " 'PuBu_r',\n",
       " 'PuOr',\n",
       " 'PuOr_r',\n",
       " 'PuRd',\n",
       " 'PuRd_r',\n",
       " 'Purples',\n",
       " 'Purples_r',\n",
       " 'RdBu',\n",
       " 'RdBu_r',\n",
       " 'RdGy',\n",
       " 'RdGy_r',\n",
       " 'RdPu',\n",
       " 'RdPu_r',\n",
       " 'RdYlBu',\n",
       " 'RdYlBu_r',\n",
       " 'RdYlGn',\n",
       " 'RdYlGn_r',\n",
       " 'Reds',\n",
       " 'Reds_r',\n",
       " 'ScalarMappable',\n",
       " 'Set1',\n",
       " 'Set1_r',\n",
       " 'Set2',\n",
       " 'Set2_r',\n",
       " 'Set3',\n",
       " 'Set3_r',\n",
       " 'Spectral',\n",
       " 'Spectral_r',\n",
       " 'Wistia',\n",
       " 'Wistia_r',\n",
       " 'YlGn',\n",
       " 'YlGnBu',\n",
       " 'YlGnBu_r',\n",
       " 'YlGn_r',\n",
       " 'YlOrBr',\n",
       " 'YlOrBr_r',\n",
       " 'YlOrRd',\n",
       " 'YlOrRd_r',\n",
       " '__builtins__',\n",
       " '__cached__',\n",
       " '__doc__',\n",
       " '__file__',\n",
       " '__loader__',\n",
       " '__name__',\n",
       " '__package__',\n",
       " '__spec__',\n",
       " '_generate_cmap',\n",
       " '_reverse_cmap_spec',\n",
       " '_reverser',\n",
       " 'afmhot',\n",
       " 'afmhot_r',\n",
       " 'autumn',\n",
       " 'autumn_r',\n",
       " 'binary',\n",
       " 'binary_r',\n",
       " 'bone',\n",
       " 'bone_r',\n",
       " 'brg',\n",
       " 'brg_r',\n",
       " 'bwr',\n",
       " 'bwr_r',\n",
       " 'cbook',\n",
       " 'cividis',\n",
       " 'cividis_r',\n",
       " 'cmap_d',\n",
       " 'cmapname',\n",
       " 'cmaps_listed',\n",
       " 'colors',\n",
       " 'cool',\n",
       " 'cool_r',\n",
       " 'coolwarm',\n",
       " 'coolwarm_r',\n",
       " 'copper',\n",
       " 'copper_r',\n",
       " 'cubehelix',\n",
       " 'cubehelix_r',\n",
       " 'datad',\n",
       " 'flag',\n",
       " 'flag_r',\n",
       " 'functools',\n",
       " 'get_cmap',\n",
       " 'gist_earth',\n",
       " 'gist_earth_r',\n",
       " 'gist_gray',\n",
       " 'gist_gray_r',\n",
       " 'gist_heat',\n",
       " 'gist_heat_r',\n",
       " 'gist_ncar',\n",
       " 'gist_ncar_r',\n",
       " 'gist_rainbow',\n",
       " 'gist_rainbow_r',\n",
       " 'gist_stern',\n",
       " 'gist_stern_r',\n",
       " 'gist_yarg',\n",
       " 'gist_yarg_r',\n",
       " 'gnuplot',\n",
       " 'gnuplot2',\n",
       " 'gnuplot2_r',\n",
       " 'gnuplot_r',\n",
       " 'gray',\n",
       " 'gray_r',\n",
       " 'hot',\n",
       " 'hot_r',\n",
       " 'hsv',\n",
       " 'hsv_r',\n",
       " 'inferno',\n",
       " 'inferno_r',\n",
       " 'jet',\n",
       " 'jet_r',\n",
       " 'ma',\n",
       " 'magma',\n",
       " 'magma_r',\n",
       " 'mpl',\n",
       " 'nipy_spectral',\n",
       " 'nipy_spectral_r',\n",
       " 'np',\n",
       " 'ocean',\n",
       " 'ocean_r',\n",
       " 'pink',\n",
       " 'pink_r',\n",
       " 'plasma',\n",
       " 'plasma_r',\n",
       " 'prism',\n",
       " 'prism_r',\n",
       " 'rainbow',\n",
       " 'rainbow_r',\n",
       " 'register_cmap',\n",
       " 'revcmap',\n",
       " 'seismic',\n",
       " 'seismic_r',\n",
       " 'spring',\n",
       " 'spring_r',\n",
       " 'summer',\n",
       " 'summer_r',\n",
       " 'tab10',\n",
       " 'tab10_r',\n",
       " 'tab20',\n",
       " 'tab20_r',\n",
       " 'tab20b',\n",
       " 'tab20b_r',\n",
       " 'tab20c',\n",
       " 'tab20c_r',\n",
       " 'terrain',\n",
       " 'terrain_r',\n",
       " 'twilight',\n",
       " 'twilight_r',\n",
       " 'twilight_shifted',\n",
       " 'twilight_shifted_r',\n",
       " 'viridis',\n",
       " 'viridis_r',\n",
       " 'winter',\n",
       " 'winter_r']"
      ]
     },
     "execution_count": 22,
     "metadata": {},
     "output_type": "execute_result"
    }
   ],
   "source": [
    "dir(cm)"
   ]
  },
  {
   "cell_type": "code",
   "execution_count": 23,
   "metadata": {},
   "outputs": [
    {
     "name": "stdout",
     "output_type": "stream",
     "text": [
      "(0.996078431372549, 0.9949803921568627, 0.5978823529411764, 1.0)\n"
     ]
    }
   ],
   "source": [
    "print(cm.terrain(0.5))"
   ]
  },
  {
   "cell_type": "code",
   "execution_count": 24,
   "metadata": {},
   "outputs": [
    {
     "data": {
      "image/png": "[encoded data removed]",
      "text/plain": [
       "<Figure size 720x72 with 1 Axes>"
      ]
     },
     "metadata": {
      "needs_background": "light"
     },
     "output_type": "display_data"
    }
   ],
   "source": [
    "x = np.linspace(0,1,30)\n",
    "\n",
    "plt.figure(figsize=(10,1))\n",
    "for k in x:\n",
    "    plt.plot(k,0,'o',ms=10,color=cm.terrain(k))\n",
    "plt.title('terrain color map')\n",
    "plt.show()"
   ]
  },
  {
   "cell_type": "code",
   "execution_count": 25,
   "metadata": {},
   "outputs": [
    {
     "data": {
      "text/plain": [
       "(0.2, 0.2, 0.6, 1.0)"
      ]
     },
     "execution_count": 25,
     "metadata": {},
     "output_type": "execute_result"
    }
   ],
   "source": [
    "cm.terrain(0)"
   ]
  },
  {
   "cell_type": "code",
   "execution_count": 29,
   "metadata": {},
   "outputs": [],
   "source": [
    "y=x.reshape(5,2,3)\n",
    "plt.imsave('image.png',y)"
   ]
  },
  {
   "cell_type": "code",
   "execution_count": 31,
   "metadata": {},
   "outputs": [],
   "source": [
    "x=np.random.rand(100,100,3)\n",
    "plt.imsave('image.png',x)"
   ]
  },
  {
   "cell_type": "markdown",
   "metadata": {},
   "source": [
    "**Ex.** Create a 2x2 plot of the seasons. Create a graph similar to the `terrain` color map, using the color map of each season\n",
    "\n",
    "Each subplot should have a title with the corresponding season, The whole image should have a supertitle `plt.suptitle` with your name on it. \n",
    "\n",
    "One you have it, post it on discord in the channel 'seasons'"
   ]
  },
  {
   "cell_type": "code",
   "execution_count": null,
   "metadata": {},
   "outputs": [],
   "source": []
  },
  {
   "cell_type": "code",
   "execution_count": 32,
   "metadata": {},
   "outputs": [
    {
     "data": {
      "image/png": "[encoded data removed]",
      "text/plain": [
       "<Figure size 432x288 with 1 Axes>"
      ]
     },
     "metadata": {
      "needs_background": "light"
     },
     "output_type": "display_data"
    }
   ],
   "source": [
    "plt.plot([1,2,3],[4,5,6])\n",
    "plt.savefig('image2.png')"
   ]
  },
  {
   "cell_type": "code",
   "execution_count": 41,
   "metadata": {},
   "outputs": [
    {
     "data": {
      "image/png": "[encoded data removed]",
      "text/plain": [
       "<Figure size 720x720 with 1 Axes>"
      ]
     },
     "metadata": {
      "needs_background": "light"
     },
     "output_type": "display_data"
    }
   ],
   "source": [
    "x=np.linspace(0,1,400).reshape(20,-1)\n",
    "plt.figure(figsize=(10,10))\n",
    "plt.imshow(x,cmap='viridis',interpolation='bilinear');"
   ]
  },
  {
   "cell_type": "code",
   "execution_count": 42,
   "metadata": {},
   "outputs": [
    {
     "data": {
      "application/javascript": [
       "/* Put everything inside the global mpl namespace */\n",
       "window.mpl = {};\n",
       "\n",
       "\n",
       "mpl.get_websocket_type = function() {\n",
       "    if (typeof(WebSocket) !== 'undefined') {\n",
       "        return WebSocket;\n",
       "    } else if (typeof(MozWebSocket) !== 'undefined') {\n",
       "        return MozWebSocket;\n",
       "    } else {\n",
       "        alert('Your browser does not have WebSocket support. ' +\n",
       "              'Please try Chrome, Safari or Firefox ≥ 6. ' +\n",
       "              'Firefox 4 and 5 are also supported but you ' +\n",
       "              'have to enable WebSockets in about:config.');\n",
       "    };\n",
       "}\n",
       "\n",
       "mpl.figure = function(figure_id, websocket, ondownload, parent_element) {\n",
       "    this.id = figure_id;\n",
       "\n",
       "    this.ws = websocket;\n",
       "\n",
       "    this.supports_binary = (this.ws.binaryType != undefined);\n",
       "\n",
       "    if (!this.supports_binary) {\n",
       "        var warnings = document.getElementById(\"mpl-warnings\");\n",
       "        if (warnings) {\n",
       "            warnings.style.display = 'block';\n",
       "            warnings.textContent = (\n",
       "                \"This browser does not support binary websocket messages. \" +\n",
       "                    \"Performance may be slow.\");\n",
       "        }\n",
       "    }\n",
       "\n",
       "    this.imageObj = new Image();\n",
       "\n",
       "    this.context = undefined;\n",
       "    this.message = undefined;\n",
       "    this.canvas = undefined;\n",
       "    this.rubberband_canvas = undefined;\n",
       "    this.rubberband_context = undefined;\n",
       "    this.format_dropdown = undefined;\n",
       "\n",
       "    this.image_mode = 'full';\n",
       "\n",
       "    this.root = $('<div/>');\n",
       "    this._root_extra_style(this.root)\n",
       "    this.root.attr('style', 'display: inline-block');\n",
       "\n",
       "    $(parent_element).append(this.root);\n",
       "\n",
       "    this._init_header(this);\n",
       "    this._init_canvas(this);\n",
       "    this._init_toolbar(this);\n",
       "\n",
       "    var fig = this;\n",
       "\n",
       "    this.waiting = false;\n",
       "\n",
       "    this.ws.onopen =  function () {\n",
       "            fig.send_message(\"supports_binary\", {value: fig.supports_binary});\n",
       "            fig.send_message(\"send_image_mode\", {});\n",
       "            if (mpl.ratio != 1) {\n",
       "                fig.send_message(\"set_dpi_ratio\", {'dpi_ratio': mpl.ratio});\n",
       "            }\n",
       "            fig.send_message(\"refresh\", {});\n",
       "        }\n",
       "\n",
       "    this.imageObj.onload = function() {\n",
       "            if (fig.image_mode == 'full') {\n",
       "                // Full images could contain transparency (where diff images\n",
       "                // almost always do), so we need to clear the canvas so that\n",
       "                // there is no ghosting.\n",
       "                fig.context.clearRect(0, 0, fig.canvas.width, fig.canvas.height);\n",
       "            }\n",
       "            fig.context.drawImage(fig.imageObj, 0, 0);\n",
       "        };\n",
       "\n",
       "    this.imageObj.onunload = function() {\n",
       "        fig.ws.close();\n",
       "    }\n",
       "\n",
       "    this.ws.onmessage = this._make_on_message_function(this);\n",
       "\n",
       "    this.ondownload = ondownload;\n",
       "}\n",
       "\n",
       "mpl.figure.prototype._init_header = function() {\n",
       "    var titlebar = $(\n",
       "        '<div class=\"ui-dialog-titlebar ui-widget-header ui-corner-all ' +\n",
       "        'ui-helper-clearfix\"/>');\n",
       "    var titletext = $(\n",
       "        '<div class=\"ui-dialog-title\" style=\"width: 100%; ' +\n",
       "        'text-align: center; padding: 3px;\"/>');\n",
       "    titlebar.append(titletext)\n",
       "    this.root.append(titlebar);\n",
       "    this.header = titletext[0];\n",
       "}\n",
       "\n",
       "\n",
       "\n",
       "mpl.figure.prototype._canvas_extra_style = function(canvas_div) {\n",
       "\n",
       "}\n",
       "\n",
       "\n",
       "mpl.figure.prototype._root_extra_style = function(canvas_div) {\n",
       "\n",
       "}\n",
       "\n",
       "mpl.figure.prototype._init_canvas = function() {\n",
       "    var fig = this;\n",
       "\n",
       "    var canvas_div = $('<div/>');\n",
       "\n",
       "    canvas_div.attr('style', 'position: relative; clear: both; outline: 0');\n",
       "\n",
       "    function canvas_keyboard_event(event) {\n",
       "        return fig.key_event(event, event['data']);\n",
       "    }\n",
       "\n",
       "    canvas_div.keydown('key_press', canvas_keyboard_event);\n",
       "    canvas_div.keyup('key_release', canvas_keyboard_event);\n",
       "    this.canvas_div = canvas_div\n",
       "    this._canvas_extra_style(canvas_div)\n",
       "    this.root.append(canvas_div);\n",
       "\n",
       "    var canvas = $('<canvas/>');\n",
       "    canvas.addClass('mpl-canvas');\n",
       "    canvas.attr('style', \"left: 0; top: 0; z-index: 0; outline: 0\")\n",
       "\n",
       "    this.canvas = canvas[0];\n",
       "    this.context = canvas[0].getContext(\"2d\");\n",
       "\n",
       "    var backingStore = this.context.backingStorePixelRatio ||\n",
       "\tthis.context.webkitBackingStorePixelRatio ||\n",
       "\tthis.context.mozBackingStorePixelRatio ||\n",
       "\tthis.context.msBackingStorePixelRatio ||\n",
       "\tthis.context.oBackingStorePixelRatio ||\n",
       "\tthis.context.backingStorePixelRatio || 1;\n",
       "\n",
       "    mpl.ratio = (window.devicePixelRatio || 1) / backingStore;\n",
       "\n",
       "    var rubberband = $('<canvas/>');\n",
       "    rubberband.attr('style', \"position: absolute; left: 0; top: 0; z-index: 1;\")\n",
       "\n",
       "    var pass_mouse_events = true;\n",
       "\n",
       "    canvas_div.resizable({\n",
       "        start: function(event, ui) {\n",
       "            pass_mouse_events = false;\n",
       "        },\n",
       "        resize: function(event, ui) {\n",
       "            fig.request_resize(ui.size.width, ui.size.height);\n",
       "        },\n",
       "        stop: function(event, ui) {\n",
       "            pass_mouse_events = true;\n",
       "            fig.request_resize(ui.size.width, ui.size.height);\n",
       "        },\n",
       "    });\n",
       "\n",
       "    function mouse_event_fn(event) {\n",
       "        if (pass_mouse_events)\n",
       "            return fig.mouse_event(event, event['data']);\n",
       "    }\n",
       "\n",
       "    rubberband.mousedown('button_press', mouse_event_fn);\n",
       "    rubberband.mouseup('button_release', mouse_event_fn);\n",
       "    // Throttle sequential mouse events to 1 every 20ms.\n",
       "    rubberband.mousemove('motion_notify', mouse_event_fn);\n",
       "\n",
       "    rubberband.mouseenter('figure_enter', mouse_event_fn);\n",
       "    rubberband.mouseleave('figure_leave', mouse_event_fn);\n",
       "\n",
       "    canvas_div.on(\"wheel\", function (event) {\n",
       "        event = event.originalEvent;\n",
       "        event['data'] = 'scroll'\n",
       "        if (event.deltaY < 0) {\n",
       "            event.step = 1;\n",
       "        } else {\n",
       "            event.step = -1;\n",
       "        }\n",
       "        mouse_event_fn(event);\n",
       "    });\n",
       "\n",
       "    canvas_div.append(canvas);\n",
       "    canvas_div.append(rubberband);\n",
       "\n",
       "    this.rubberband = rubberband;\n",
       "    this.rubberband_canvas = rubberband[0];\n",
       "    this.rubberband_context = rubberband[0].getContext(\"2d\");\n",
       "    this.rubberband_context.strokeStyle = \"#000000\";\n",
       "\n",
       "    this._resize_canvas = function(width, height) {\n",
       "        // Keep the size of the canvas, canvas container, and rubber band\n",
       "        // canvas in synch.\n",
       "        canvas_div.css('width', width)\n",
       "        canvas_div.css('height', height)\n",
       "\n",
       "        canvas.attr('width', width * mpl.ratio);\n",
       "        canvas.attr('height', height * mpl.ratio);\n",
       "        canvas.attr('style', 'width: ' + width + 'px; height: ' + height + 'px;');\n",
       "\n",
       "        rubberband.attr('width', width);\n",
       "        rubberband.attr('height', height);\n",
       "    }\n",
       "\n",
       "    // Set the figure to an initial 600x600px, this will subsequently be updated\n",
       "    // upon first draw.\n",
       "    this._resize_canvas(600, 600);\n",
       "\n",
       "    // Disable right mouse context menu.\n",
       "    $(this.rubberband_canvas).bind(\"contextmenu\",function(e){\n",
       "        return false;\n",
       "    });\n",
       "\n",
       "    function set_focus () {\n",
       "        canvas.focus();\n",
       "        canvas_div.focus();\n",
       "    }\n",
       "\n",
       "    window.setTimeout(set_focus, 100);\n",
       "}\n",
       "\n",
       "mpl.figure.prototype._init_toolbar = function() {\n",
       "    var fig = this;\n",
       "\n",
       "    var nav_element = $('<div/>');\n",
       "    nav_element.attr('style', 'width: 100%');\n",
       "    this.root.append(nav_element);\n",
       "\n",
       "    // Define a callback function for later on.\n",
       "    function toolbar_event(event) {\n",
       "        return fig.toolbar_button_onclick(event['data']);\n",
       "    }\n",
       "    function toolbar_mouse_event(event) {\n",
       "        return fig.toolbar_button_onmouseover(event['data']);\n",
       "    }\n",
       "\n",
       "    for(var toolbar_ind in mpl.toolbar_items) {\n",
       "        var name = mpl.toolbar_items[toolbar_ind][0];\n",
       "        var tooltip = mpl.toolbar_items[toolbar_ind][1];\n",
       "        var image = mpl.toolbar_items[toolbar_ind][2];\n",
       "        var method_name = mpl.toolbar_items[toolbar_ind][3];\n",
       "\n",
       "        if (!name) {\n",
       "            // put a spacer in here.\n",
       "            continue;\n",
       "        }\n",
       "        var button = $('<button/>');\n",
       "        button.addClass('ui-button ui-widget ui-state-default ui-corner-all ' +\n",
       "                        'ui-button-icon-only');\n",
       "        button.attr('role', 'button');\n",
       "        button.attr('aria-disabled', 'false');\n",
       "        button.click(method_name, toolbar_event);\n",
       "        button.mouseover(tooltip, toolbar_mouse_event);\n",
       "\n",
       "        var icon_img = $('<span/>');\n",
       "        icon_img.addClass('ui-button-icon-primary ui-icon');\n",
       "        icon_img.addClass(image);\n",
       "        icon_img.addClass('ui-corner-all');\n",
       "\n",
       "        var tooltip_span = $('<span/>');\n",
       "        tooltip_span.addClass('ui-button-text');\n",
       "        tooltip_span.html(tooltip);\n",
       "\n",
       "        button.append(icon_img);\n",
       "        button.append(tooltip_span);\n",
       "\n",
       "        nav_element.append(button);\n",
       "    }\n",
       "\n",
       "    var fmt_picker_span = $('<span/>');\n",
       "\n",
       "    var fmt_picker = $('<select/>');\n",
       "    fmt_picker.addClass('mpl-toolbar-option ui-widget ui-widget-content');\n",
       "    fmt_picker_span.append(fmt_picker);\n",
       "    nav_element.append(fmt_picker_span);\n",
       "    this.format_dropdown = fmt_picker[0];\n",
       "\n",
       "    for (var ind in mpl.extensions) {\n",
       "        var fmt = mpl.extensions[ind];\n",
       "        var option = $(\n",
       "            '<option/>', {selected: fmt === mpl.default_extension}).html(fmt);\n",
       "        fmt_picker.append(option);\n",
       "    }\n",
       "\n",
       "    // Add hover states to the ui-buttons\n",
       "    $( \".ui-button\" ).hover(\n",
       "        function() { $(this).addClass(\"ui-state-hover\");},\n",
       "        function() { $(this).removeClass(\"ui-state-hover\");}\n",
       "    );\n",
       "\n",
       "    var status_bar = $('<span class=\"mpl-message\"/>');\n",
       "    nav_element.append(status_bar);\n",
       "    this.message = status_bar[0];\n",
       "}\n",
       "\n",
       "mpl.figure.prototype.request_resize = function(x_pixels, y_pixels) {\n",
       "    // Request matplotlib to resize the figure. Matplotlib will then trigger a resize in the client,\n",
       "    // which will in turn request a refresh of the image.\n",
       "    this.send_message('resize', {'width': x_pixels, 'height': y_pixels});\n",
       "}\n",
       "\n",
       "mpl.figure.prototype.send_message = function(type, properties) {\n",
       "    properties['type'] = type;\n",
       "    properties['figure_id'] = this.id;\n",
       "    this.ws.send(JSON.stringify(properties));\n",
       "}\n",
       "\n",
       "mpl.figure.prototype.send_draw_message = function() {\n",
       "    if (!this.waiting) {\n",
       "        this.waiting = true;\n",
       "        this.ws.send(JSON.stringify({type: \"draw\", figure_id: this.id}));\n",
       "    }\n",
       "}\n",
       "\n",
       "\n",
       "mpl.figure.prototype.handle_save = function(fig, msg) {\n",
       "    var format_dropdown = fig.format_dropdown;\n",
       "    var format = format_dropdown.options[format_dropdown.selectedIndex].value;\n",
       "    fig.ondownload(fig, format);\n",
       "}\n",
       "\n",
       "\n",
       "mpl.figure.prototype.handle_resize = function(fig, msg) {\n",
       "    var size = msg['size'];\n",
       "    if (size[0] != fig.canvas.width || size[1] != fig.canvas.height) {\n",
       "        fig._resize_canvas(size[0], size[1]);\n",
       "        fig.send_message(\"refresh\", {});\n",
       "    };\n",
       "}\n",
       "\n",
       "mpl.figure.prototype.handle_rubberband = function(fig, msg) {\n",
       "    var x0 = msg['x0'] / mpl.ratio;\n",
       "    var y0 = (fig.canvas.height - msg['y0']) / mpl.ratio;\n",
       "    var x1 = msg['x1'] / mpl.ratio;\n",
       "    var y1 = (fig.canvas.height - msg['y1']) / mpl.ratio;\n",
       "    x0 = Math.floor(x0) + 0.5;\n",
       "    y0 = Math.floor(y0) + 0.5;\n",
       "    x1 = Math.floor(x1) + 0.5;\n",
       "    y1 = Math.floor(y1) + 0.5;\n",
       "    var min_x = Math.min(x0, x1);\n",
       "    var min_y = Math.min(y0, y1);\n",
       "    var width = Math.abs(x1 - x0);\n",
       "    var height = Math.abs(y1 - y0);\n",
       "\n",
       "    fig.rubberband_context.clearRect(\n",
       "        0, 0, fig.canvas.width / mpl.ratio, fig.canvas.height / mpl.ratio);\n",
       "\n",
       "    fig.rubberband_context.strokeRect(min_x, min_y, width, height);\n",
       "}\n",
       "\n",
       "mpl.figure.prototype.handle_figure_label = function(fig, msg) {\n",
       "    // Updates the figure title.\n",
       "    fig.header.textContent = msg['label'];\n",
       "}\n",
       "\n",
       "mpl.figure.prototype.handle_cursor = function(fig, msg) {\n",
       "    var cursor = msg['cursor'];\n",
       "    switch(cursor)\n",
       "    {\n",
       "    case 0:\n",
       "        cursor = 'pointer';\n",
       "        break;\n",
       "    case 1:\n",
       "        cursor = 'default';\n",
       "        break;\n",
       "    case 2:\n",
       "        cursor = 'crosshair';\n",
       "        break;\n",
       "    case 3:\n",
       "        cursor = 'move';\n",
       "        break;\n",
       "    }\n",
       "    fig.rubberband_canvas.style.cursor = cursor;\n",
       "}\n",
       "\n",
       "mpl.figure.prototype.handle_message = function(fig, msg) {\n",
       "    fig.message.textContent = msg['message'];\n",
       "}\n",
       "\n",
       "mpl.figure.prototype.handle_draw = function(fig, msg) {\n",
       "    // Request the server to send over a new figure.\n",
       "    fig.send_draw_message();\n",
       "}\n",
       "\n",
       "mpl.figure.prototype.handle_image_mode = function(fig, msg) {\n",
       "    fig.image_mode = msg['mode'];\n",
       "}\n",
       "\n",
       "mpl.figure.prototype.updated_canvas_event = function() {\n",
       "    // Called whenever the canvas gets updated.\n",
       "    this.send_message(\"ack\", {});\n",
       "}\n",
       "\n",
       "// A function to construct a web socket function for onmessage handling.\n",
       "// Called in the figure constructor.\n",
       "mpl.figure.prototype._make_on_message_function = function(fig) {\n",
       "    return function socket_on_message(evt) {\n",
       "        if (evt.data instanceof Blob) {\n",
       "            /* FIXME: We get \"Resource interpreted as Image but\n",
       "             * transferred with MIME type text/plain:\" errors on\n",
       "             * Chrome.  But how to set the MIME type?  It doesn't seem\n",
       "             * to be part of the websocket stream */\n",
       "            evt.data.type = \"image/png\";\n",
       "\n",
       "            /* Free the memory for the previous frames */\n",
       "            if (fig.imageObj.src) {\n",
       "                (window.URL || window.webkitURL).revokeObjectURL(\n",
       "                    fig.imageObj.src);\n",
       "            }\n",
       "\n",
       "            fig.imageObj.src = (window.URL || window.webkitURL).createObjectURL(\n",
       "                evt.data);\n",
       "            fig.updated_canvas_event();\n",
       "            fig.waiting = false;\n",
       "            return;\n",
       "        }\n",
       "        else if (typeof evt.data === 'string' && evt.data.slice(0, 21) == \"data:image/png;base64\") {\n",
       "            fig.imageObj.src = evt.data;\n",
       "            fig.updated_canvas_event();\n",
       "            fig.waiting = false;\n",
       "            return;\n",
       "        }\n",
       "\n",
       "        var msg = JSON.parse(evt.data);\n",
       "        var msg_type = msg['type'];\n",
       "\n",
       "        // Call the  \"handle_{type}\" callback, which takes\n",
       "        // the figure and JSON message as its only arguments.\n",
       "        try {\n",
       "            var callback = fig[\"handle_\" + msg_type];\n",
       "        } catch (e) {\n",
       "            console.log(\"No handler for the '\" + msg_type + \"' message type: \", msg);\n",
       "            return;\n",
       "        }\n",
       "\n",
       "        if (callback) {\n",
       "            try {\n",
       "                // console.log(\"Handling '\" + msg_type + \"' message: \", msg);\n",
       "                callback(fig, msg);\n",
       "            } catch (e) {\n",
       "                console.log(\"Exception inside the 'handler_\" + msg_type + \"' callback:\", e, e.stack, msg);\n",
       "            }\n",
       "        }\n",
       "    };\n",
       "}\n",
       "\n",
       "// from http://stackoverflow.com/questions/1114465/getting-mouse-location-in-canvas\n",
       "mpl.findpos = function(e) {\n",
       "    //this section is from http://www.quirksmode.org/js/events_properties.html\n",
       "    var targ;\n",
       "    if (!e)\n",
       "        e = window.event;\n",
       "    if (e.target)\n",
       "        targ = e.target;\n",
       "    else if (e.srcElement)\n",
       "        targ = e.srcElement;\n",
       "    if (targ.nodeType == 3) // defeat Safari bug\n",
       "        targ = targ.parentNode;\n",
       "\n",
       "    // jQuery normalizes the pageX and pageY\n",
       "    // pageX,Y are the mouse positions relative to the document\n",
       "    // offset() returns the position of the element relative to the document\n",
       "    var x = e.pageX - $(targ).offset().left;\n",
       "    var y = e.pageY - $(targ).offset().top;\n",
       "\n",
       "    return {\"x\": x, \"y\": y};\n",
       "};\n",
       "\n",
       "/*\n",
       " * return a copy of an object with only non-object keys\n",
       " * we need this to avoid circular references\n",
       " * http://stackoverflow.com/a/24161582/3208463\n",
       " */\n",
       "function simpleKeys (original) {\n",
       "  return Object.keys(original).reduce(function (obj, key) {\n",
       "    if (typeof original[key] !== 'object')\n",
       "        obj[key] = original[key]\n",
       "    return obj;\n",
       "  }, {});\n",
       "}\n",
       "\n",
       "mpl.figure.prototype.mouse_event = function(event, name) {\n",
       "    var canvas_pos = mpl.findpos(event)\n",
       "\n",
       "    if (name === 'button_press')\n",
       "    {\n",
       "        this.canvas.focus();\n",
       "        this.canvas_div.focus();\n",
       "    }\n",
       "\n",
       "    var x = canvas_pos.x * mpl.ratio;\n",
       "    var y = canvas_pos.y * mpl.ratio;\n",
       "\n",
       "    this.send_message(name, {x: x, y: y, button: event.button,\n",
       "                             step: event.step,\n",
       "                             guiEvent: simpleKeys(event)});\n",
       "\n",
       "    /* This prevents the web browser from automatically changing to\n",
       "     * the text insertion cursor when the button is pressed.  We want\n",
       "     * to control all of the cursor setting manually through the\n",
       "     * 'cursor' event from matplotlib */\n",
       "    event.preventDefault();\n",
       "    return false;\n",
       "}\n",
       "\n",
       "mpl.figure.prototype._key_event_extra = function(event, name) {\n",
       "    // Handle any extra behaviour associated with a key event\n",
       "}\n",
       "\n",
       "mpl.figure.prototype.key_event = function(event, name) {\n",
       "\n",
       "    // Prevent repeat events\n",
       "    if (name == 'key_press')\n",
       "    {\n",
       "        if (event.which === this._key)\n",
       "            return;\n",
       "        else\n",
       "            this._key = event.which;\n",
       "    }\n",
       "    if (name == 'key_release')\n",
       "        this._key = null;\n",
       "\n",
       "    var value = '';\n",
       "    if (event.ctrlKey && event.which != 17)\n",
       "        value += \"ctrl+\";\n",
       "    if (event.altKey && event.which != 18)\n",
       "        value += \"alt+\";\n",
       "    if (event.shiftKey && event.which != 16)\n",
       "        value += \"shift+\";\n",
       "\n",
       "    value += 'k';\n",
       "    value += event.which.toString();\n",
       "\n",
       "    this._key_event_extra(event, name);\n",
       "\n",
       "    this.send_message(name, {key: value,\n",
       "                             guiEvent: simpleKeys(event)});\n",
       "    return false;\n",
       "}\n",
       "\n",
       "mpl.figure.prototype.toolbar_button_onclick = function(name) {\n",
       "    if (name == 'download') {\n",
       "        this.handle_save(this, null);\n",
       "    } else {\n",
       "        this.send_message(\"toolbar_button\", {name: name});\n",
       "    }\n",
       "};\n",
       "\n",
       "mpl.figure.prototype.toolbar_button_onmouseover = function(tooltip) {\n",
       "    this.message.textContent = tooltip;\n",
       "};\n",
       "mpl.toolbar_items = [[\"Home\", \"Reset original view\", \"fa fa-home icon-home\", \"home\"], [\"Back\", \"Back to previous view\", \"fa fa-arrow-left icon-arrow-left\", \"back\"], [\"Forward\", \"Forward to next view\", \"fa fa-arrow-right icon-arrow-right\", \"forward\"], [\"\", \"\", \"\", \"\"], [\"Pan\", \"Pan axes with left mouse, zoom with right\", \"fa fa-arrows icon-move\", \"pan\"], [\"Zoom\", \"Zoom to rectangle\", \"fa fa-square-o icon-check-empty\", \"zoom\"], [\"\", \"\", \"\", \"\"], [\"Download\", \"Download plot\", \"fa fa-floppy-o icon-save\", \"download\"]];\n",
       "\n",
       "mpl.extensions = [\"eps\", \"jpeg\", \"pdf\", \"png\", \"ps\", \"raw\", \"svg\", \"tif\"];\n",
       "\n",
       "mpl.default_extension = \"png\";var comm_websocket_adapter = function(comm) {\n",
       "    // Create a \"websocket\"-like object which calls the given IPython comm\n",
       "    // object with the appropriate methods. Currently this is a non binary\n",
       "    // socket, so there is still some room for performance tuning.\n",
       "    var ws = {};\n",
       "\n",
       "    ws.close = function() {\n",
       "        comm.close()\n",
       "    };\n",
       "    ws.send = function(m) {\n",
       "        //console.log('sending', m);\n",
       "        comm.send(m);\n",
       "    };\n",
       "    // Register the callback with on_msg.\n",
       "    comm.on_msg(function(msg) {\n",
       "        //console.log('receiving', msg['content']['data'], msg);\n",
       "        // Pass the mpl event to the overridden (by mpl) onmessage function.\n",
       "        ws.onmessage(msg['content']['data'])\n",
       "    });\n",
       "    return ws;\n",
       "}\n",
       "\n",
       "mpl.mpl_figure_comm = function(comm, msg) {\n",
       "    // This is the function which gets called when the mpl process\n",
       "    // starts-up an IPython Comm through the \"matplotlib\" channel.\n",
       "\n",
       "    var id = msg.content.data.id;\n",
       "    // Get hold of the div created by the display call when the Comm\n",
       "    // socket was opened in Python.\n",
       "    var element = $(\"#\" + id);\n",
       "    var ws_proxy = comm_websocket_adapter(comm)\n",
       "\n",
       "    function ondownload(figure, format) {\n",
       "        window.open(figure.imageObj.src);\n",
       "    }\n",
       "\n",
       "    var fig = new mpl.figure(id, ws_proxy,\n",
       "                           ondownload,\n",
       "                           element.get(0));\n",
       "\n",
       "    // Call onopen now - mpl needs it, as it is assuming we've passed it a real\n",
       "    // web socket which is closed, not our websocket->open comm proxy.\n",
       "    ws_proxy.onopen();\n",
       "\n",
       "    fig.parent_element = element.get(0);\n",
       "    fig.cell_info = mpl.find_output_cell(\"<div id='\" + id + \"'></div>\");\n",
       "    if (!fig.cell_info) {\n",
       "        console.error(\"Failed to find cell for figure\", id, fig);\n",
       "        return;\n",
       "    }\n",
       "\n",
       "    var output_index = fig.cell_info[2]\n",
       "    var cell = fig.cell_info[0];\n",
       "\n",
       "};\n",
       "\n",
       "mpl.figure.prototype.handle_close = function(fig, msg) {\n",
       "    var width = fig.canvas.width/mpl.ratio\n",
       "    fig.root.unbind('remove')\n",
       "\n",
       "    // Update the output cell to use the data from the current canvas.\n",
       "    fig.push_to_output();\n",
       "    var dataURL = fig.canvas.toDataURL();\n",
       "    // Re-enable the keyboard manager in IPython - without this line, in FF,\n",
       "    // the notebook keyboard shortcuts fail.\n",
       "    IPython.keyboard_manager.enable()\n",
       "    $(fig.parent_element).html('<img src=\"' + dataURL + '\" width=\"' + width + '\">');\n",
       "    fig.close_ws(fig, msg);\n",
       "}\n",
       "\n",
       "mpl.figure.prototype.close_ws = function(fig, msg){\n",
       "    fig.send_message('closing', msg);\n",
       "    // fig.ws.close()\n",
       "}\n",
       "\n",
       "mpl.figure.prototype.push_to_output = function(remove_interactive) {\n",
       "    // Turn the data on the canvas into data in the output cell.\n",
       "    var width = this.canvas.width/mpl.ratio\n",
       "    var dataURL = this.canvas.toDataURL();\n",
       "    this.cell_info[1]['text/html'] = '<img src=\"' + dataURL + '\" width=\"' + width + '\">';\n",
       "}\n",
       "\n",
       "mpl.figure.prototype.updated_canvas_event = function() {\n",
       "    // Tell IPython that the notebook contents must change.\n",
       "    IPython.notebook.set_dirty(true);\n",
       "    this.send_message(\"ack\", {});\n",
       "    var fig = this;\n",
       "    // Wait a second, then push the new image to the DOM so\n",
       "    // that it is saved nicely (might be nice to debounce this).\n",
       "    setTimeout(function () { fig.push_to_output() }, 1000);\n",
       "}\n",
       "\n",
       "mpl.figure.prototype._init_toolbar = function() {\n",
       "    var fig = this;\n",
       "\n",
       "    var nav_element = $('<div/>');\n",
       "    nav_element.attr('style', 'width: 100%');\n",
       "    this.root.append(nav_element);\n",
       "\n",
       "    // Define a callback function for later on.\n",
       "    function toolbar_event(event) {\n",
       "        return fig.toolbar_button_onclick(event['data']);\n",
       "    }\n",
       "    function toolbar_mouse_event(event) {\n",
       "        return fig.toolbar_button_onmouseover(event['data']);\n",
       "    }\n",
       "\n",
       "    for(var toolbar_ind in mpl.toolbar_items){\n",
       "        var name = mpl.toolbar_items[toolbar_ind][0];\n",
       "        var tooltip = mpl.toolbar_items[toolbar_ind][1];\n",
       "        var image = mpl.toolbar_items[toolbar_ind][2];\n",
       "        var method_name = mpl.toolbar_items[toolbar_ind][3];\n",
       "\n",
       "        if (!name) { continue; };\n",
       "\n",
       "        var button = $('<button class=\"btn btn-default\" href=\"#\" title=\"' + name + '\"><i class=\"fa ' + image + ' fa-lg\"></i></button>');\n",
       "        button.click(method_name, toolbar_event);\n",
       "        button.mouseover(tooltip, toolbar_mouse_event);\n",
       "        nav_element.append(button);\n",
       "    }\n",
       "\n",
       "    // Add the status bar.\n",
       "    var status_bar = $('<span class=\"mpl-message\" style=\"text-align:right; float: right;\"/>');\n",
       "    nav_element.append(status_bar);\n",
       "    this.message = status_bar[0];\n",
       "\n",
       "    // Add the close button to the window.\n",
       "    var buttongrp = $('<div class=\"btn-group inline pull-right\"></div>');\n",
       "    var button = $('<button class=\"btn btn-mini btn-primary\" href=\"#\" title=\"Stop Interaction\"><i class=\"fa fa-power-off icon-remove icon-large\"></i></button>');\n",
       "    button.click(function (evt) { fig.handle_close(fig, {}); } );\n",
       "    button.mouseover('Stop Interaction', toolbar_mouse_event);\n",
       "    buttongrp.append(button);\n",
       "    var titlebar = this.root.find($('.ui-dialog-titlebar'));\n",
       "    titlebar.prepend(buttongrp);\n",
       "}\n",
       "\n",
       "mpl.figure.prototype._root_extra_style = function(el){\n",
       "    var fig = this\n",
       "    el.on(\"remove\", function(){\n",
       "\tfig.close_ws(fig, {});\n",
       "    });\n",
       "}\n",
       "\n",
       "mpl.figure.prototype._canvas_extra_style = function(el){\n",
       "    // this is important to make the div 'focusable\n",
       "    el.attr('tabindex', 0)\n",
       "    // reach out to IPython and tell the keyboard manager to turn it's self\n",
       "    // off when our div gets focus\n",
       "\n",
       "    // location in version 3\n",
       "    if (IPython.notebook.keyboard_manager) {\n",
       "        IPython.notebook.keyboard_manager.register_events(el);\n",
       "    }\n",
       "    else {\n",
       "        // location in version 2\n",
       "        IPython.keyboard_manager.register_events(el);\n",
       "    }\n",
       "\n",
       "}\n",
       "\n",
       "mpl.figure.prototype._key_event_extra = function(event, name) {\n",
       "    var manager = IPython.notebook.keyboard_manager;\n",
       "    if (!manager)\n",
       "        manager = IPython.keyboard_manager;\n",
       "\n",
       "    // Check for shift+enter\n",
       "    if (event.shiftKey && event.which == 13) {\n",
       "        this.canvas_div.blur();\n",
       "        // select the cell after this one\n",
       "        var index = IPython.notebook.find_cell_index(this.cell_info[0]);\n",
       "        IPython.notebook.select(index + 1);\n",
       "    }\n",
       "}\n",
       "\n",
       "mpl.figure.prototype.handle_save = function(fig, msg) {\n",
       "    fig.ondownload(fig, null);\n",
       "}\n",
       "\n",
       "\n",
       "mpl.find_output_cell = function(html_output) {\n",
       "    // Return the cell and output element which can be found *uniquely* in the notebook.\n",
       "    // Note - this is a bit hacky, but it is done because the \"notebook_saving.Notebook\"\n",
       "    // IPython event is triggered only after the cells have been serialised, which for\n",
       "    // our purposes (turning an active figure into a static one), is too late.\n",
       "    var cells = IPython.notebook.get_cells();\n",
       "    var ncells = cells.length;\n",
       "    for (var i=0; i<ncells; i++) {\n",
       "        var cell = cells[i];\n",
       "        if (cell.cell_type === 'code'){\n",
       "            for (var j=0; j<cell.output_area.outputs.length; j++) {\n",
       "                var data = cell.output_area.outputs[j];\n",
       "                if (data.data) {\n",
       "                    // IPython >= 3 moved mimebundle to data attribute of output\n",
       "                    data = data.data;\n",
       "                }\n",
       "                if (data['text/html'] == html_output) {\n",
       "                    return [cell, data, j];\n",
       "                }\n",
       "            }\n",
       "        }\n",
       "    }\n",
       "}\n",
       "\n",
       "// Register the function which deals with the matplotlib target/channel.\n",
       "// The kernel may be null if the page has been refreshed.\n",
       "if (IPython.notebook.kernel != null) {\n",
       "    IPython.notebook.kernel.comm_manager.register_target('matplotlib', mpl.mpl_figure_comm);\n",
       "}\n"
      ],
      "text/plain": [
       "<IPython.core.display.Javascript object>"
      ]
     },
     "metadata": {},
     "output_type": "display_data"
    },
    {
     "data": {
      "text/html": [
       "<img src=\"data:image/png;base64,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\" width=\"600\">"
      ],
      "text/plain": [
       "<IPython.core.display.HTML object>"
      ]
     },
     "metadata": {},
     "output_type": "display_data"
    }
   ],
   "source": [
    "%matplotlib notebook\n",
    "\n",
    "\n",
    "\n",
    "import numpy as np\n",
    "import matplotlib.pyplot as plt\n",
    "from matplotlib.animation import FuncAnimation\n",
    "from matplotlib import colors\n",
    "\n",
    "x = np.zeros((200,200), dtype = int)\n",
    "\n",
    "fig = plt.figure(figsize = (6,6))\n",
    "ax = plt.subplot(111)\n",
    "plt.title(\"Animation test\")\n",
    "cmap = colors.ListedColormap(['palegreen', 'green', 'black', 'orange'])\n",
    "im = ax.imshow(x, cmap = cmap, vmin = -1, vmax = 2)\n",
    "\n",
    "\n",
    "def animate(i):\n",
    "    global x\n",
    "\n",
    "    x=np.random.random(x.shape)\n",
    "    im.set_data(x)\n",
    "    return im\n",
    "\n",
    "\n",
    "anim = FuncAnimation(fig=fig, func=animate,  interval=100, blit=True, repeat=False)\n",
    "plt.show()"
   ]
  },
  {
   "cell_type": "markdown",
   "metadata": {},
   "source": [
    "`epidemics` function:\n",
    "\n",
    "* given 200x200 grid, `pi`, `pr`\n",
    "* for each cell, we need to check number of infected around them\n",
    "* compute the p of getting sick\n",
    "* check who gets sick : compare the probability of getting sick with a random draw\n",
    "* check who recovers : same as above but with probability of recovery \n",
    "* return the grid for the next day"
   ]
  },
  {
   "cell_type": "code",
   "execution_count": 43,
   "metadata": {},
   "outputs": [
    {
     "data": {
      "text/plain": [
       "array([[1., 1., 1., 1., 1.],\n",
       "       [1., 1., 1., 1., 1.],\n",
       "       [1., 1., 1., 1., 1.]])"
      ]
     },
     "execution_count": 43,
     "metadata": {},
     "output_type": "execute_result"
    }
   ],
   "source": [
    "# question 5\n",
    "\n",
    "np.ones(15).reshape(3,5)"
   ]
  },
  {
   "cell_type": "code",
   "execution_count": 44,
   "metadata": {},
   "outputs": [
    {
     "data": {
      "text/plain": [
       "array([[1., 1., 1., 1., 1.],\n",
       "       [1., 1., 1., 1., 1.],\n",
       "       [1., 1., 1., 1., 1.]])"
      ]
     },
     "execution_count": 44,
     "metadata": {},
     "output_type": "execute_result"
    }
   ],
   "source": [
    "np.ones((3,5))"
   ]
  },
  {
   "cell_type": "code",
   "execution_count": 45,
   "metadata": {},
   "outputs": [],
   "source": [
    "a=np.arange(12).reshape(3,4)"
   ]
  },
  {
   "cell_type": "code",
   "execution_count": 46,
   "metadata": {},
   "outputs": [
    {
     "data": {
      "text/plain": [
       "array([[ 0,  1,  2,  3],\n",
       "       [ 4,  5,  6,  7],\n",
       "       [ 8,  9, 10, 11]])"
      ]
     },
     "execution_count": 46,
     "metadata": {},
     "output_type": "execute_result"
    }
   ],
   "source": [
    "a\n"
   ]
  },
  {
   "cell_type": "code",
   "execution_count": 47,
   "metadata": {},
   "outputs": [
    {
     "data": {
      "text/plain": [
       "array([[ 0,  1,  2],\n",
       "       [ 4,  5,  6],\n",
       "       [ 8,  9, 10]])"
      ]
     },
     "execution_count": 47,
     "metadata": {},
     "output_type": "execute_result"
    }
   ],
   "source": [
    "a[0:3,0:3]"
   ]
  },
  {
   "cell_type": "code",
   "execution_count": 48,
   "metadata": {},
   "outputs": [
    {
     "data": {
      "text/plain": [
       "array([], shape=(0, 3), dtype=int32)"
      ]
     },
     "execution_count": 48,
     "metadata": {},
     "output_type": "execute_result"
    }
   ],
   "source": [
    "a[-1:2,0:3]"
   ]
  },
  {
   "cell_type": "code",
   "execution_count": 51,
   "metadata": {},
   "outputs": [
    {
     "data": {
      "text/plain": [
       "array([[0.62779205, 0.45035325, 0.40120699, 0.43250432, 0.28553841],\n",
       "       [0.37190395, 0.85293652, 0.43693319, 0.08553506, 0.23207945],\n",
       "       [0.44864267, 0.8236657 , 0.29794522, 0.37948834, 0.91424493]])"
      ]
     },
     "execution_count": 51,
     "metadata": {},
     "output_type": "execute_result"
    }
   ],
   "source": [
    "np.random.rand(3,5) # 3x5 random array of numbers in [0,1)"
   ]
  },
  {
   "cell_type": "code",
   "execution_count": 52,
   "metadata": {},
   "outputs": [],
   "source": [
    "import random"
   ]
  },
  {
   "cell_type": "code",
   "execution_count": 53,
   "metadata": {},
   "outputs": [
    {
     "data": {
      "text/plain": [
       "0.2771010641444416"
      ]
     },
     "execution_count": 53,
     "metadata": {},
     "output_type": "execute_result"
    }
   ],
   "source": [
    "random.random()"
   ]
  },
  {
   "cell_type": "code",
   "execution_count": 54,
   "metadata": {},
   "outputs": [
    {
     "name": "stdout",
     "output_type": "stream",
     "text": [
      "Help on built-in function random:\n",
      "\n",
      "random(...) method of random.Random instance\n",
      "    random() -> x in the interval [0, 1).\n",
      "\n"
     ]
    }
   ],
   "source": [
    "help(random.random)"
   ]
  },
  {
   "cell_type": "code",
   "execution_count": 55,
   "metadata": {},
   "outputs": [
    {
     "name": "stdout",
     "output_type": "stream",
     "text": [
      "Help on built-in function rand:\n",
      "\n",
      "rand(...) method of numpy.random.mtrand.RandomState instance\n",
      "    rand(d0, d1, ..., dn)\n",
      "    \n",
      "    Random values in a given shape.\n",
      "    \n",
      "    .. note::\n",
      "        This is a convenience function for users porting code from Matlab,\n",
      "        and wraps `random_sample`. That function takes a\n",
      "        tuple to specify the size of the output, which is consistent with\n",
      "        other NumPy functions like `numpy.zeros` and `numpy.ones`.\n",
      "    \n",
      "    Create an array of the given shape and populate it with\n",
      "    random samples from a uniform distribution\n",
      "    over ``[0, 1)``.\n",
      "    \n",
      "    Parameters\n",
      "    ----------\n",
      "    d0, d1, ..., dn : int, optional\n",
      "        The dimensions of the returned array, must be non-negative.\n",
      "        If no argument is given a single Python float is returned.\n",
      "    \n",
      "    Returns\n",
      "    -------\n",
      "    out : ndarray, shape ``(d0, d1, ..., dn)``\n",
      "        Random values.\n",
      "    \n",
      "    See Also\n",
      "    --------\n",
      "    random\n",
      "    \n",
      "    Examples\n",
      "    --------\n",
      "    >>> np.random.rand(3,2)\n",
      "    array([[ 0.14022471,  0.96360618],  #random\n",
      "           [ 0.37601032,  0.25528411],  #random\n",
      "           [ 0.49313049,  0.94909878]]) #random\n",
      "\n"
     ]
    }
   ],
   "source": [
    "help(np.random.rand)"
   ]
  },
  {
   "cell_type": "code",
   "execution_count": 56,
   "metadata": {},
   "outputs": [
    {
     "name": "stdout",
     "output_type": "stream",
     "text": [
      "Help on built-in function random:\n",
      "\n",
      "random(...) method of numpy.random.mtrand.RandomState instance\n",
      "    random(size=None)\n",
      "    \n",
      "    Return random floats in the half-open interval [0.0, 1.0). Alias for\n",
      "    `random_sample` to ease forward-porting to the new random API.\n",
      "\n"
     ]
    }
   ],
   "source": [
    "help(np.random.random)"
   ]
  },
  {
   "cell_type": "markdown",
   "metadata": {},
   "source": [
    "## RGB (red-green-blue) colors"
   ]
  },
  {
   "cell_type": "markdown",
   "metadata": {},
   "source": [
    "each color is described in the [0,1) or [0 255] interval"
   ]
  },
  {
   "cell_type": "code",
   "execution_count": 64,
   "metadata": {},
   "outputs": [
    {
     "data": {
      "image/png": "[encoded data removed]",
      "text/plain": [
       "<Figure size 432x288 with 1 Axes>"
      ]
     },
     "metadata": {
      "needs_background": "light"
     },
     "output_type": "display_data"
    }
   ],
   "source": [
    "%matplotlib inline\n",
    "plt.plot(0,0,marker='s',ms=50,color=(0,1,0))\n",
    "plt.plot(1,1,marker='^',ms=50,color=(0,0,1));\n",
    "plt.xlim(-0.5,1.5)\n",
    "plt.ylim(-0.5,1.5);"
   ]
  },
  {
   "cell_type": "code",
   "execution_count": 75,
   "metadata": {},
   "outputs": [
    {
     "data": {
      "image/png": "[encoded data removed]",
      "text/plain": [
       "<Figure size 432x288 with 1 Axes>"
      ]
     },
     "metadata": {
      "needs_background": "light"
     },
     "output_type": "display_data"
    }
   ],
   "source": [
    "h=(3**0.5)/2\n",
    "w=0.5\n",
    "\n",
    "ax=plt.subplot(1,1,1)\n",
    "plt.plot(-w,0,'*',ms=50,color=(1,0,0)) # red\n",
    "plt.plot(w,0,'*',ms=50,color=(0,1,0)) # green\n",
    "plt.plot(0,h,'*',ms=50,color=(0,0,1)) # blue\n",
    "plt.plot(-w/2,h/2,'*',ms=50,color=(1,0,1)) # red + blue = magenta\n",
    "plt.plot(w/2,h/2,'*',ms=50,color=(0,1,1)) # green + blue = cyan\n",
    "plt.plot(0,0,'*',ms=50,color=(1,1,0)) # red + green = yellow\n",
    "plt.plot(0,h/3,'*',ms=50,color=(1,1,1)) # red + green + blue = white\n",
    "ax.set_facecolor((0,0,0)) # black background"
   ]
  },
  {
   "cell_type": "code",
   "execution_count": 79,
   "metadata": {},
   "outputs": [
    {
     "data": {
      "image/png": "[encoded data removed]",
      "text/plain": [
       "<Figure size 432x288 with 1 Axes>"
      ]
     },
     "metadata": {
      "needs_background": "light"
     },
     "output_type": "display_data"
    }
   ],
   "source": [
    "img = np.random.rand(10,10,3)\n",
    "plt.imshow(img);"
   ]
  },
  {
   "cell_type": "code",
   "execution_count": 80,
   "metadata": {},
   "outputs": [
    {
     "data": {
      "text/plain": [
       "array([[0.45121802, 0.34954146, 0.75364931, 0.36984901, 0.94090519,\n",
       "        0.68584068, 0.33194238, 0.26060564, 0.51263749, 0.64309801],\n",
       "       [0.86237608, 0.65832718, 0.16092873, 0.36915614, 0.00537281,\n",
       "        0.35600638, 0.72339395, 0.85365648, 0.77678546, 0.08931339],\n",
       "       [0.66675364, 0.48367266, 0.66962255, 0.2015392 , 0.71488756,\n",
       "        0.16263975, 0.0681279 , 0.44175583, 0.61407235, 0.67934364],\n",
       "       [0.16120167, 0.70564715, 0.03327269, 0.67072382, 0.36368235,\n",
       "        0.5089136 , 0.29805857, 0.69893594, 0.70201313, 0.93384313],\n",
       "       [0.74858686, 0.37388055, 0.4434119 , 0.1392551 , 0.84063857,\n",
       "        0.96251025, 0.8772231 , 0.44344425, 0.11835453, 0.9876689 ],\n",
       "       [0.00132015, 0.83254775, 0.73755223, 0.88264216, 0.04183575,\n",
       "        0.62977139, 0.45150689, 0.00897169, 0.78479682, 0.01204104],\n",
       "       [0.84755112, 0.07027685, 0.63832198, 0.35319891, 0.51186146,\n",
       "        0.96760553, 0.35134651, 0.37308631, 0.090669  , 0.02241055],\n",
       "       [0.43756231, 0.81095083, 0.75246619, 0.02316944, 0.1487857 ,\n",
       "        0.85295698, 0.98390065, 0.66037115, 0.0182645 , 0.63467273],\n",
       "       [0.06154895, 0.02463787, 0.69276747, 0.22398129, 0.8432977 ,\n",
       "        0.77339297, 0.81255951, 0.79598996, 0.81241529, 0.60007101],\n",
       "       [0.28326636, 0.09962614, 0.00841803, 0.6240831 , 0.42128865,\n",
       "        0.44878013, 0.31225478, 0.39367516, 0.59320423, 0.38491328]])"
      ]
     },
     "execution_count": 80,
     "metadata": {},
     "output_type": "execute_result"
    }
   ],
   "source": [
    "img[:,:,2] # blue component"
   ]
  },
  {
   "cell_type": "markdown",
   "metadata": {},
   "source": [
    "## Broadcasting of `numpy` arrays"
   ]
  },
  {
   "cell_type": "code",
   "execution_count": 84,
   "metadata": {},
   "outputs": [
    {
     "data": {
      "text/plain": [
       "array([[ 0,  1,  2],\n",
       "       [ 3,  4,  5],\n",
       "       [ 6,  7,  8],\n",
       "       [ 9, 10, 11]])"
      ]
     },
     "execution_count": 84,
     "metadata": {},
     "output_type": "execute_result"
    }
   ],
   "source": [
    "a=np.arange(12).reshape(4,3)\n",
    "a"
   ]
  },
  {
   "cell_type": "code",
   "execution_count": 86,
   "metadata": {},
   "outputs": [
    {
     "data": {
      "text/plain": [
       "array([[ 1,  1,  1],\n",
       "       [ 3,  4,  5],\n",
       "       [ 6,  7,  8],\n",
       "       [ 9, 10, 11]])"
      ]
     },
     "execution_count": 86,
     "metadata": {},
     "output_type": "execute_result"
    }
   ],
   "source": [
    "a[0,:]=1\n",
    "a"
   ]
  },
  {
   "cell_type": "code",
   "execution_count": 87,
   "metadata": {},
   "outputs": [
    {
     "ename": "ValueError",
     "evalue": "could not broadcast input array from shape (4) into shape (3)",
     "output_type": "error",
     "traceback": [
      "\u001b[1;31m---------------------------------------------------------------------------\u001b[0m",
      "\u001b[1;31mValueError\u001b[0m                                Traceback (most recent call last)",
      "\u001b[1;32m<ipython-input-87-469c16bfe9f1>\u001b[0m in \u001b[0;36m<module>\u001b[1;34m\u001b[0m\n\u001b[1;32m----> 1\u001b[1;33m \u001b[0ma\u001b[0m\u001b[1;33m[\u001b[0m\u001b[1;36m0\u001b[0m\u001b[1;33m,\u001b[0m\u001b[1;33m:\u001b[0m\u001b[1;33m]\u001b[0m\u001b[1;33m=\u001b[0m\u001b[0mnp\u001b[0m\u001b[1;33m.\u001b[0m\u001b[0marange\u001b[0m\u001b[1;33m(\u001b[0m\u001b[1;36m4\u001b[0m\u001b[1;33m)\u001b[0m\u001b[1;33m\u001b[0m\u001b[1;33m\u001b[0m\u001b[0m\n\u001b[0m",
      "\u001b[1;31mValueError\u001b[0m: could not broadcast input array from shape (4) into shape (3)"
     ]
    }
   ],
   "source": [
    "a[0,:]=np.arange(4)"
   ]
  },
  {
   "cell_type": "code",
   "execution_count": 88,
   "metadata": {},
   "outputs": [
    {
     "ename": "ValueError",
     "evalue": "operands could not be broadcast together with shapes (4,3) (4,) ",
     "output_type": "error",
     "traceback": [
      "\u001b[1;31m---------------------------------------------------------------------------\u001b[0m",
      "\u001b[1;31mValueError\u001b[0m                                Traceback (most recent call last)",
      "\u001b[1;32m<ipython-input-88-a8f7a62ac54d>\u001b[0m in \u001b[0;36m<module>\u001b[1;34m\u001b[0m\n\u001b[1;32m----> 1\u001b[1;33m \u001b[0ma\u001b[0m\u001b[1;33m+\u001b[0m\u001b[0mnp\u001b[0m\u001b[1;33m.\u001b[0m\u001b[0marange\u001b[0m\u001b[1;33m(\u001b[0m\u001b[1;36m4\u001b[0m\u001b[1;33m)\u001b[0m\u001b[1;33m\u001b[0m\u001b[1;33m\u001b[0m\u001b[0m\n\u001b[0m",
      "\u001b[1;31mValueError\u001b[0m: operands could not be broadcast together with shapes (4,3) (4,) "
     ]
    }
   ],
   "source": [
    "a+np.arange(4)"
   ]
  },
  {
   "cell_type": "code",
   "execution_count": 90,
   "metadata": {},
   "outputs": [
    {
     "data": {
      "text/plain": [
       "array([[ 0,  1,  2],\n",
       "       [ 3,  4,  5],\n",
       "       [ 6,  7,  8],\n",
       "       [ 9, 10, 11]])"
      ]
     },
     "execution_count": 90,
     "metadata": {},
     "output_type": "execute_result"
    }
   ],
   "source": [
    "a=np.arange(12).reshape(4,3)\n",
    "a"
   ]
  },
  {
   "cell_type": "code",
   "execution_count": 91,
   "metadata": {},
   "outputs": [
    {
     "data": {
      "text/plain": [
       "array([[ 0,  2,  4],\n",
       "       [ 3,  5,  7],\n",
       "       [ 6,  8, 10],\n",
       "       [ 9, 11, 13]])"
      ]
     },
     "execution_count": 91,
     "metadata": {},
     "output_type": "execute_result"
    }
   ],
   "source": [
    "a+np.arange(3)"
   ]
  },
  {
   "cell_type": "code",
   "execution_count": 93,
   "metadata": {},
   "outputs": [
    {
     "data": {
      "text/plain": [
       "(3,)"
      ]
     },
     "execution_count": 93,
     "metadata": {},
     "output_type": "execute_result"
    }
   ],
   "source": [
    "np.arange(3).shape"
   ]
  },
  {
   "cell_type": "markdown",
   "metadata": {},
   "source": [
    "General idea:\n",
    "* broadcasting allows you to combine arrays with different dimensions\n",
    "* dimensions are either matching, or one of them is 1\n",
    "* the check starts from the last dimension\n",
    "* two arrays might have different numbers of dimensions"
   ]
  },
  {
   "cell_type": "code",
   "execution_count": 94,
   "metadata": {},
   "outputs": [
    {
     "data": {
      "text/plain": [
       "array([[ 0,  1,  2],\n",
       "       [ 3,  4,  5],\n",
       "       [ 6,  7,  8],\n",
       "       [ 9, 10, 11]])"
      ]
     },
     "execution_count": 94,
     "metadata": {},
     "output_type": "execute_result"
    }
   ],
   "source": [
    "a"
   ]
  },
  {
   "cell_type": "code",
   "execution_count": 95,
   "metadata": {},
   "outputs": [
    {
     "data": {
      "text/plain": [
       "(4, 3)"
      ]
     },
     "execution_count": 95,
     "metadata": {},
     "output_type": "execute_result"
    }
   ],
   "source": [
    "a.shape"
   ]
  },
  {
   "cell_type": "code",
   "execution_count": 98,
   "metadata": {},
   "outputs": [
    {
     "data": {
      "text/plain": [
       "array([[0],\n",
       "       [1],\n",
       "       [2],\n",
       "       [3]])"
      ]
     },
     "execution_count": 98,
     "metadata": {},
     "output_type": "execute_result"
    }
   ],
   "source": [
    "b=np.arange(4).reshape(4,1)\n",
    "b"
   ]
  },
  {
   "cell_type": "code",
   "execution_count": 99,
   "metadata": {},
   "outputs": [
    {
     "data": {
      "text/plain": [
       "(4, 1)"
      ]
     },
     "execution_count": 99,
     "metadata": {},
     "output_type": "execute_result"
    }
   ],
   "source": [
    "b.shape"
   ]
  },
  {
   "cell_type": "code",
   "execution_count": 100,
   "metadata": {},
   "outputs": [
    {
     "data": {
      "text/plain": [
       "array([[ 0,  1,  2],\n",
       "       [ 4,  5,  6],\n",
       "       [ 8,  9, 10],\n",
       "       [12, 13, 14]])"
      ]
     },
     "execution_count": 100,
     "metadata": {},
     "output_type": "execute_result"
    }
   ],
   "source": [
    "a+b"
   ]
  },
  {
   "cell_type": "code",
   "execution_count": null,
   "metadata": {},
   "outputs": [],
   "source": []
  }
 ],
 "metadata": {
  "kernelspec": {
   "display_name": "Python 3",
   "language": "python",
   "name": "python3"
  },
  "language_info": {
   "codemirror_mode": {
    "name": "ipython",
    "version": 3
   },
   "file_extension": ".py",
   "mimetype": "text/x-python",
   "name": "python",
   "nbconvert_exporter": "python",
   "pygments_lexer": "ipython3",
   "version": "3.7.3"
  }
 },
 "nbformat": 4,
 "nbformat_minor": 4
}
